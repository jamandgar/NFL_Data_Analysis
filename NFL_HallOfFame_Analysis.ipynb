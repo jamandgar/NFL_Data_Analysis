{
  "nbformat": 4,
  "nbformat_minor": 0,
  "metadata": {
    "colab": {
      "name": "NFL_HallOfFame_Analysis.ipynb",
      "provenance": [],
      "collapsed_sections": [],
      "mount_file_id": "1j0_rYdR65n51h2q4LM-k1h_uuMfdy_Zz",
      "authorship_tag": "ABX9TyMiL6DswpfpvvtAPQa96zdV",
      "include_colab_link": true
    },
    "kernelspec": {
      "name": "python3",
      "display_name": "Python 3"
    }
  },
  "cells": [
    {
      "cell_type": "markdown",
      "metadata": {
        "id": "view-in-github",
        "colab_type": "text"
      },
      "source": [
        "<a href=\"https://colab.research.google.com/github/jamandgar/NFL_Data_Analysis/blob/master/NFL_HallOfFame_Analysis.ipynb\" target=\"_parent\"><img src=\"https://colab.research.google.com/assets/colab-badge.svg\" alt=\"Open In Colab\"/></a>"
      ]
    },
    {
      "cell_type": "markdown",
      "metadata": {
        "id": "A0DnkUx19fi6"
      },
      "source": [
        "#Imports"
      ]
    },
    {
      "cell_type": "code",
      "metadata": {
        "id": "nHpp4qoJ6HgN"
      },
      "source": [
        "import numpy as np\n",
        "import matplotlib.pyplot as plt\n",
        "import pandas as pd"
      ],
      "execution_count": 360,
      "outputs": []
    },
    {
      "cell_type": "markdown",
      "metadata": {
        "id": "bysGxGHQ6P9y"
      },
      "source": [
        "#CSV files to DataFrames\n",
        "Data collected from Pro Football Reference:\n",
        "https://www.pro-football-reference.com/play-index/psl_finder.cgi"
      ]
    },
    {
      "cell_type": "markdown",
      "metadata": {
        "id": "ZZue7Ml5-E-K"
      },
      "source": [
        "###League-Wide Data\n"
      ]
    },
    {
      "cell_type": "code",
      "metadata": {
        "id": "30_AVpPO832x"
      },
      "source": [
        "path = \"drive/My Drive/NFL_Data/\"\n",
        "hof_players = pd.read_csv(path+\"All_HOF.csv\")\n",
        "mvps_league = pd.read_csv(path+\"All_MVP-NFL.csv\")\n",
        "mvps_sb = pd.read_csv(path+\"All_MVP-SB.csv\")"
      ],
      "execution_count": 361,
      "outputs": []
    },
    {
      "cell_type": "markdown",
      "metadata": {
        "id": "QPcg2r9vDhW_"
      },
      "source": [
        "###Individual Player Data\n",
        "Data was collected for quarterbacks (QB) who played in and retired from the National Football League (NFL) - which prior to 1922 was known as the American Professional Football Association (APFA) - between its inaugural year of 1920 and the current year of 2020. Those who played in the All-America Football Conference (AAFC) or the American Football League (AFL) before they merged with the NFL in 1949 and 1970 respectively, are also included."
      ]
    },
    {
      "cell_type": "markdown",
      "metadata": {
        "id": "NdOyMyqT-5iS"
      },
      "source": [
        "#####Quarterbacks"
      ]
    },
    {
      "cell_type": "code",
      "metadata": {
        "id": "krpmmqz-_U1U"
      },
      "source": [
        "#Super Bowl (SB) appearances and victories (this is typically tracked for just \n",
        "#the quarterback position)\n",
        "qb_sb_games = pd.read_csv(path+\"QB_Championships.csv\")\n",
        "\n",
        "#Passing data\n",
        "qb_passing = pd.read_csv(path+\"QB_Passing.csv\")\n",
        "\n",
        "#Combined passing, rushing, and/or receiving data\n",
        "qb_totals = pd.read_csv(path+\"QB_Totals.csv\")\n",
        "\n",
        "#Other data related to in-game statistics, e.g. years played\n",
        "qb_misc = pd.read_csv(path+\"QB_Miscellaneous.csv\")"
      ],
      "execution_count": 362,
      "outputs": []
    },
    {
      "cell_type": "markdown",
      "metadata": {
        "id": "Aqhcwmp2Aopq"
      },
      "source": [
        "#Data Cleaning"
      ]
    },
    {
      "cell_type": "markdown",
      "metadata": {
        "id": "UBh3ouvp3BoV"
      },
      "source": [
        "###League-Wide Data"
      ]
    },
    {
      "cell_type": "code",
      "metadata": {
        "id": "eJEhzEsNA09u"
      },
      "source": [
        "hof_qbs = hof_players[hof_players['Pos'] == 'QB']['Player']\n",
        "\n",
        "mvps_league = mvps_league['Player'].value_counts().to_frame(name='League_MVPs')\n",
        "mvps_league.rename_axis('Player ID', inplace=True)\n",
        "\n",
        "mvps_sb = mvps_sb['Player'].value_counts().to_frame(name='SB_MVPs')\n",
        "mvps_sb.rename_axis('Player ID', inplace=True)"
      ],
      "execution_count": 363,
      "outputs": []
    },
    {
      "cell_type": "markdown",
      "metadata": {
        "id": "KpRehBVj3Y1t"
      },
      "source": [
        "###Individual Player Data"
      ]
    },
    {
      "cell_type": "markdown",
      "metadata": {
        "id": "j69BqhCX3Z9E"
      },
      "source": [
        "#####Quarterbacks"
      ]
    },
    {
      "cell_type": "code",
      "metadata": {
        "id": "VCctX7UA3sDY",
        "outputId": "46be790c-1af0-4215-e470-f01287202b32",
        "colab": {
          "base_uri": "https://localhost:8080/",
          "height": 642
        }
      },
      "source": [
        "##List of Super Bowl QBs is currently organized by the team they played for,\n",
        "##which isn't necessary\n",
        "qb_sb_games = qb_sb_games.stack()\n",
        "qb_sb_games.reset_index(drop=True, inplace=True)\n",
        "\n",
        "##Isolate win-loss records for each Super Bowl QB into individual columns \n",
        "qb_sb_games = qb_sb_games.str.rpartition(' ')\n",
        "qb_sb_games.rename(columns={0: 'Name', 2: 'Record'}, inplace=True)\n",
        "qb_sb_games.drop(columns=[1], inplace=True)\n",
        "\n",
        "qb_sb_games['Wins'] = qb_sb_games['Record'].str.partition('-')[0]\n",
        "qb_sb_games['Wins'] = qb_sb_games['Wins'].str.partition('(')[2]\n",
        "\n",
        "qb_sb_games['Played'] = qb_sb_games['Record'].str.partition('-')[2]\n",
        "qb_sb_games['Played'] = qb_sb_games['Played'].str.partition(')')[0]\n",
        "\n",
        "qb_sb_games = qb_sb_games.astype({'Wins': 'int32', 'Played': 'int32'})\n",
        "qb_sb_games['Played'] += qb_sb_games['Wins']\n",
        "qb_sb_games.drop(columns=['Record'], inplace=True)\n",
        "\n",
        "##The provided 'Player' column is used to uniquely identify individuals, however\n",
        "##there are inconsistencies with this column between some CSV files\n",
        "qb_passing.rename(columns={'Player': 'ID'}, inplace=True)\n",
        "qb_passing['ID'] = qb_passing['ID'].str.replace(\" \\*\", \"\")\n",
        "qb_passing['ID'] = qb_passing['ID'].str.replace(\"\\*\", \"\")\n",
        "\n",
        "qb_totals.rename(columns={'Player': 'ID'}, inplace=True)\n",
        "qb_totals['ID'] = qb_totals['ID'].str.replace(\" \\*\", \"\")\n",
        "qb_totals['ID'] = qb_totals['ID'].str.replace(\"\\*\", \"\")\n",
        "\n",
        "qb_misc.rename(columns={'Player': 'ID'}, inplace=True)\n",
        "qb_misc['ID'] = qb_misc['ID'].str.replace(\" \\*\", \"\")\n",
        "qb_misc['ID'] = qb_misc['ID'].str.replace(\"\\*\", \"\")\n",
        "\n",
        "##Create new columns for the name of each player and their Hall of Fame status;\n",
        "##use 'ID' as the index for each DataFrame\n",
        "qb_passing['Name'] = qb_passing['ID'].str.partition('\\\\')[0]\n",
        "qb_passing['Name'] = qb_passing['Name'].str.partition('*')[0]\n",
        "qb_passing.insert(0, 'Name', qb_passing.pop('Name'))\n",
        "\n",
        "qb_misc['HOF'] = qb_misc['ID'].isin(hof_qbs)\n",
        "\n",
        "qb_passing.set_index('ID', inplace=True)\n",
        "qb_totals.set_index('ID', inplace=True)\n",
        "qb_misc.set_index('ID', inplace=True)\n",
        "\n",
        "##Combine all quarterback player data and remove redundant, unneeded, and/or\n",
        "##unusable data due to a statistic not being recorded until a specific year\n",
        "qb_passing.drop(columns=['From','Tm','Lg','Pick6','Sk','Yds.1','Sk%','ANY/A',\n",
        "                         '4QC', 'GWD'], inplace=True)\n",
        "\n",
        "qb_totals.drop(columns=['From','To','Draft','Tm','Lg','G','GS'], inplace=True)\n",
        "\n",
        "qb_misc.drop(columns=['From','To','Draft','Tm','Lg','G','GS','AV'], inplace=True)\n",
        "\n",
        "qb_data = qb_passing.join([qb_totals, qb_misc])\n",
        "qb_data.sort_index(inplace=True)\n",
        "\n",
        "##Players not eligible for HOF induction must be removed as well as those who\n",
        "##never attempted a pass in a game\n",
        "qb_data = qb_data[qb_data['To'] <= 2014]\n",
        "qb_data = qb_data[qb_data['Att'] > 0]\n",
        "qb_data.drop(columns=['To'], inplace=True)\n",
        "\n",
        "##Ignore the round and league in which a player was drafted.\n",
        "qb_data['Draft'] = qb_data['Draft'].str.rpartition('-')[2]\n",
        "qb_data['Draft'] = qb_data['Draft'].str.partition(\"AFL\")[0]\n",
        "\n",
        "##Fill Null Values\n",
        "#An empty value for 'Draft' indicates an undrafted player\n",
        "qb_data = qb_data.astype({'Draft': 'float64'})\n",
        "qb_data['Draft'].fillna(qb_data['Draft'].max() + 1, inplace=True)\n",
        "\n",
        "#Three players have missing: 'W'(Win), 'L'(Lose), and 'T'(Tie) values, which can\n",
        "#be attributed to never starting a game\n",
        "qb_data['W'].fillna(0, inplace=True)\n",
        "qb_data['L'].fillna(0, inplace=True)\n",
        "qb_data['T'].fillna(0, inplace=True)\n",
        "\n",
        "i = 'int64'\n",
        "qb_data = qb_data.astype({'Draft': i, 'G': i, 'GS': i, 'W': i, 'L': i, 'T': i})\n",
        "qb_data.info()"
      ],
      "execution_count": 364,
      "outputs": [
        {
          "output_type": "stream",
          "text": [
            "<class 'pandas.core.frame.DataFrame'>\n",
            "Index: 760 entries, A.J. Feeley\\FeelA.00 to Zeke Bratkowski\\BratZe00\n",
            "Data columns (total 28 columns):\n",
            " #   Column  Non-Null Count  Dtype  \n",
            "---  ------  --------------  -----  \n",
            " 0   Name    760 non-null    object \n",
            " 1   Draft   760 non-null    int64  \n",
            " 2   G       760 non-null    int64  \n",
            " 3   GS      760 non-null    int64  \n",
            " 4   Cmp     760 non-null    int64  \n",
            " 5   Att     760 non-null    int64  \n",
            " 6   Cmp%    760 non-null    float64\n",
            " 7   Yds     760 non-null    int64  \n",
            " 8   TD      760 non-null    int64  \n",
            " 9   Int     760 non-null    int64  \n",
            " 10  TD%     760 non-null    float64\n",
            " 11  Int%    760 non-null    float64\n",
            " 12  Rate    760 non-null    float64\n",
            " 13  Y/A     760 non-null    float64\n",
            " 14  AY/A    760 non-null    float64\n",
            " 15  Y/G     760 non-null    float64\n",
            " 16  W       760 non-null    int64  \n",
            " 17  L       760 non-null    int64  \n",
            " 18  T       760 non-null    int64  \n",
            " 19  Touch   760 non-null    int64  \n",
            " 20  TotOff  760 non-null    int64  \n",
            " 21  YScm    760 non-null    int64  \n",
            " 22  APYd    760 non-null    int64  \n",
            " 23  RtY     760 non-null    int64  \n",
            " 24  Yrs     760 non-null    int64  \n",
            " 25  PB      760 non-null    int64  \n",
            " 26  AP1     760 non-null    int64  \n",
            " 27  HOF     760 non-null    bool   \n",
            "dtypes: bool(1), float64(7), int64(19), object(1)\n",
            "memory usage: 167.0+ KB\n"
          ],
          "name": "stdout"
        }
      ]
    }
  ]
}