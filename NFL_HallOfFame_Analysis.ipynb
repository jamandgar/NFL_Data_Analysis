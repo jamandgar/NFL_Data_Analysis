{
  "nbformat": 4,
  "nbformat_minor": 0,
  "metadata": {
    "colab": {
      "name": "NFL_HallOfFame_Analysis.ipynb",
      "provenance": [],
      "collapsed_sections": [],
      "mount_file_id": "1j0_rYdR65n51h2q4LM-k1h_uuMfdy_Zz",
      "authorship_tag": "ABX9TyOla117LrazS5qYDHDynluz",
      "include_colab_link": true
    },
    "kernelspec": {
      "name": "python3",
      "display_name": "Python 3"
    }
  },
  "cells": [
    {
      "cell_type": "markdown",
      "metadata": {
        "id": "view-in-github",
        "colab_type": "text"
      },
      "source": [
        "<a href=\"https://colab.research.google.com/github/jamandgar/NFL_Data_Analysis/blob/master/NFL_HallOfFame_Analysis.ipynb\" target=\"_parent\"><img src=\"https://colab.research.google.com/assets/colab-badge.svg\" alt=\"Open In Colab\"/></a>"
      ]
    },
    {
      "cell_type": "markdown",
      "metadata": {
        "id": "A0DnkUx19fi6",
        "colab_type": "text"
      },
      "source": [
        "#Imports"
      ]
    },
    {
      "cell_type": "code",
      "metadata": {
        "id": "nHpp4qoJ6HgN",
        "colab_type": "code",
        "colab": {}
      },
      "source": [
        "import numpy as np\n",
        "import matplotlib.pyplot as plt\n",
        "import pandas as pd"
      ],
      "execution_count": 201,
      "outputs": []
    },
    {
      "cell_type": "markdown",
      "metadata": {
        "id": "bysGxGHQ6P9y",
        "colab_type": "text"
      },
      "source": [
        "#CSV files to DataFrames\n",
        "Data collected from Pro Football Reference:\n",
        "https://www.pro-football-reference.com/play-index/psl_finder.cgi"
      ]
    },
    {
      "cell_type": "markdown",
      "metadata": {
        "id": "ZZue7Ml5-E-K",
        "colab_type": "text"
      },
      "source": [
        "###League-Wide Data\n"
      ]
    },
    {
      "cell_type": "code",
      "metadata": {
        "id": "30_AVpPO832x",
        "colab_type": "code",
        "colab": {}
      },
      "source": [
        "path = \"drive/My Drive/NFL_Data/\"\n",
        "hof_players = pd.read_csv(path+\"All_HOF.csv\")\n",
        "mvps_league = pd.read_csv(path+\"All_MVP-NFL.csv\")\n",
        "mvps_sb = pd.read_csv(path+\"All_MVP-SB.csv\")"
      ],
      "execution_count": 202,
      "outputs": []
    },
    {
      "cell_type": "markdown",
      "metadata": {
        "id": "QPcg2r9vDhW_",
        "colab_type": "text"
      },
      "source": [
        "###Individual Player Data\n",
        "Data was collected for quarterbacks (QB) who played in and retired from the National Football League (NFL) between 1920 - its inaugural year - and 2020. Those who played in the American Football League (AFL) before it merged with the NFL in 1970 are also included."
      ]
    },
    {
      "cell_type": "markdown",
      "metadata": {
        "id": "NdOyMyqT-5iS",
        "colab_type": "text"
      },
      "source": [
        "#####Quarterbacks"
      ]
    },
    {
      "cell_type": "code",
      "metadata": {
        "id": "krpmmqz-_U1U",
        "colab_type": "code",
        "colab": {}
      },
      "source": [
        "#Super Bowl (SB) appearances and victories (this is typically tracked for just \n",
        "#the quarterback position)\n",
        "qb_sb_games = pd.read_csv(path+\"QB_Championships.csv\")\n",
        "\n",
        "#Passing data\n",
        "qb_passing = pd.read_csv(path+\"QB_Passing.csv\")\n",
        "\n",
        "#Combined passing, rushing, and/or receiving data\n",
        "qb_totals = pd.read_csv(path+\"QB_Totals.csv\")\n",
        "\n",
        "#Other data related to in-game statistics, e.g. years played\n",
        "qb_misc = pd.read_csv(path+\"QB_Miscellaneous.csv\")"
      ],
      "execution_count": 203,
      "outputs": []
    },
    {
      "cell_type": "markdown",
      "metadata": {
        "id": "Aqhcwmp2Aopq",
        "colab_type": "text"
      },
      "source": [
        "#Data Cleaning"
      ]
    },
    {
      "cell_type": "markdown",
      "metadata": {
        "id": "UBh3ouvp3BoV",
        "colab_type": "text"
      },
      "source": [
        "###League-Wide Data"
      ]
    },
    {
      "cell_type": "code",
      "metadata": {
        "id": "eJEhzEsNA09u",
        "colab_type": "code",
        "colab": {}
      },
      "source": [
        "hof_qbs = hof_players[hof_players['Pos'] == 'QB']\n",
        "\n",
        "mvps_league = mvps_league['Player'].str.partition('\\\\')[0]\n",
        "mvps_league = mvps_league.value_counts()\n",
        "\n",
        "mvps_sb = mvps_sb['Player'].str.partition('\\\\')[0]\n",
        "mvps_sb = mvps_sb.value_counts()\n"
      ],
      "execution_count": 204,
      "outputs": []
    },
    {
      "cell_type": "markdown",
      "metadata": {
        "id": "KpRehBVj3Y1t",
        "colab_type": "text"
      },
      "source": [
        "###Individual Player Data"
      ]
    },
    {
      "cell_type": "markdown",
      "metadata": {
        "id": "j69BqhCX3Z9E",
        "colab_type": "text"
      },
      "source": [
        "#####Quarterbacks"
      ]
    },
    {
      "cell_type": "code",
      "metadata": {
        "id": "VCctX7UA3sDY",
        "colab_type": "code",
        "colab": {
          "base_uri": "https://localhost:8080/",
          "height": 407
        },
        "outputId": "34e2d17f-6624-49dd-dc63-7ab0968fb230"
      },
      "source": [
        "##List of Super Bowl QBs is currently organized by the team they played for,\n",
        "##which isn't necessary\n",
        "qb_sb_games = qb_sb_games.stack()\n",
        "qb_sb_games.reset_index(drop=True, inplace=True)\n",
        "\n",
        "##Isolate win-loss records for each player into individual columns \n",
        "qb_sb_games = qb_sb_games.str.rpartition(' ')\n",
        "qb_sb_games.rename(columns={0: 'Name', 2: 'Record'}, inplace=True)\n",
        "\n",
        "qb_sb_games['Wins'] = qb_sb_games['Record'].str.partition('-')[0]\n",
        "qb_sb_games['Wins'] = qb_sb_games['Wins'].str.partition('(')[2]\n",
        "\n",
        "qb_sb_games['Played'] = qb_sb_games['Record'].str.partition('-')[2]\n",
        "qb_sb_games['Played'] = qb_sb_games['Played'].str.partition(')')[0]\n",
        "\n",
        "qb_sb_games = qb_sb_games.astype({'Wins': 'int32', 'Played': 'int32'})\n",
        "qb_sb_games['Played'] += qb_sb_games['Wins']\n",
        "qb_sb_games.drop(columns=[1, 'Record'], inplace=True)\n",
        "qb_sb_games"
      ],
      "execution_count": 205,
      "outputs": [
        {
          "output_type": "execute_result",
          "data": {
            "text/html": [
              "<div>\n",
              "<style scoped>\n",
              "    .dataframe tbody tr th:only-of-type {\n",
              "        vertical-align: middle;\n",
              "    }\n",
              "\n",
              "    .dataframe tbody tr th {\n",
              "        vertical-align: top;\n",
              "    }\n",
              "\n",
              "    .dataframe thead th {\n",
              "        text-align: right;\n",
              "    }\n",
              "</style>\n",
              "<table border=\"1\" class=\"dataframe\">\n",
              "  <thead>\n",
              "    <tr style=\"text-align: right;\">\n",
              "      <th></th>\n",
              "      <th>Name</th>\n",
              "      <th>Wins</th>\n",
              "      <th>Played</th>\n",
              "    </tr>\n",
              "  </thead>\n",
              "  <tbody>\n",
              "    <tr>\n",
              "      <th>0</th>\n",
              "      <td>Terry Bradshaw</td>\n",
              "      <td>4</td>\n",
              "      <td>4</td>\n",
              "    </tr>\n",
              "    <tr>\n",
              "      <th>1</th>\n",
              "      <td>Neil O'Donnell</td>\n",
              "      <td>0</td>\n",
              "      <td>1</td>\n",
              "    </tr>\n",
              "    <tr>\n",
              "      <th>2</th>\n",
              "      <td>Ben Roethlisberger</td>\n",
              "      <td>2</td>\n",
              "      <td>3</td>\n",
              "    </tr>\n",
              "    <tr>\n",
              "      <th>3</th>\n",
              "      <td>Drew Bledsoe</td>\n",
              "      <td>0</td>\n",
              "      <td>1</td>\n",
              "    </tr>\n",
              "    <tr>\n",
              "      <th>4</th>\n",
              "      <td>Tom Brady</td>\n",
              "      <td>6</td>\n",
              "      <td>9</td>\n",
              "    </tr>\n",
              "    <tr>\n",
              "      <th>...</th>\n",
              "      <td>...</td>\n",
              "      <td>...</td>\n",
              "      <td>...</td>\n",
              "    </tr>\n",
              "    <tr>\n",
              "      <th>61</th>\n",
              "      <td>Ken Anderson</td>\n",
              "      <td>0</td>\n",
              "      <td>1</td>\n",
              "    </tr>\n",
              "    <tr>\n",
              "      <th>62</th>\n",
              "      <td>Boomer Esiason</td>\n",
              "      <td>0</td>\n",
              "      <td>1</td>\n",
              "    </tr>\n",
              "    <tr>\n",
              "      <th>63</th>\n",
              "      <td>Kurt Warner</td>\n",
              "      <td>0</td>\n",
              "      <td>1</td>\n",
              "    </tr>\n",
              "    <tr>\n",
              "      <th>64</th>\n",
              "      <td>Steve McNair</td>\n",
              "      <td>0</td>\n",
              "      <td>1</td>\n",
              "    </tr>\n",
              "    <tr>\n",
              "      <th>65</th>\n",
              "      <td>Stan Humphries</td>\n",
              "      <td>0</td>\n",
              "      <td>1</td>\n",
              "    </tr>\n",
              "  </tbody>\n",
              "</table>\n",
              "<p>66 rows × 3 columns</p>\n",
              "</div>"
            ],
            "text/plain": [
              "                   Name  Wins  Played\n",
              "0        Terry Bradshaw     4       4\n",
              "1        Neil O'Donnell     0       1\n",
              "2    Ben Roethlisberger     2       3\n",
              "3          Drew Bledsoe     0       1\n",
              "4             Tom Brady     6       9\n",
              "..                  ...   ...     ...\n",
              "61         Ken Anderson     0       1\n",
              "62       Boomer Esiason     0       1\n",
              "63          Kurt Warner     0       1\n",
              "64         Steve McNair     0       1\n",
              "65       Stan Humphries     0       1\n",
              "\n",
              "[66 rows x 3 columns]"
            ]
          },
          "metadata": {
            "tags": []
          },
          "execution_count": 205
        }
      ]
    }
  ]
}