{
  "nbformat": 4,
  "nbformat_minor": 0,
  "metadata": {
    "colab": {
      "name": "NFL_HallOfFame_Analysis.ipynb",
      "provenance": [],
      "collapsed_sections": [],
      "authorship_tag": "ABX9TyNjdgg9Y4hp1014dq6J3dF2"
    },
    "kernelspec": {
      "name": "python3",
      "display_name": "Python 3"
    }
  },
  "cells": [
    {
      "cell_type": "markdown",
      "metadata": {
        "id": "A0DnkUx19fi6",
        "colab_type": "text"
      },
      "source": [
        "#Imports"
      ]
    },
    {
      "cell_type": "code",
      "metadata": {
        "id": "nHpp4qoJ6HgN",
        "colab_type": "code",
        "colab": {}
      },
      "source": [
        "import numpy as np\n",
        "import matplotlib.pyplot as plt\n",
        "import pandas as pd"
      ],
      "execution_count": 134,
      "outputs": []
    },
    {
      "cell_type": "markdown",
      "metadata": {
        "id": "bysGxGHQ6P9y",
        "colab_type": "text"
      },
      "source": [
        "#CSV to DataFrame\n",
        "Data collected from Pro Football Reference:\n",
        "https://www.pro-football-reference.com/play-index/psl_finder.cgi"
      ]
    },
    {
      "cell_type": "markdown",
      "metadata": {
        "id": "ZZue7Ml5-E-K",
        "colab_type": "text"
      },
      "source": [
        "###League-Wide Data\n"
      ]
    },
    {
      "cell_type": "code",
      "metadata": {
        "id": "30_AVpPO832x",
        "colab_type": "code",
        "colab": {}
      },
      "source": [
        "hof_players = pd.read_csv(\"All_HOF.csv\")\n",
        "mvp_players_nfl = pd.read_csv(\"All_MVP-NFL.csv\")\n",
        "mvp_players_sb = pd.read_csv(\"All_MVP-SB.csv\")"
      ],
      "execution_count": 135,
      "outputs": []
    },
    {
      "cell_type": "markdown",
      "metadata": {
        "id": "QPcg2r9vDhW_",
        "colab_type": "text"
      },
      "source": [
        "###Individual Player Data\n",
        "Data was collected for quarterbacks (QB) who played a minimum of 10 games and retired from the National Football League (NFL) between 1920, its inaugural year, and 2014, the most recent year a player could have played and still be eligible for Hall of Fame (HOF) induction (as of 2020)."
      ]
    },
    {
      "cell_type": "markdown",
      "metadata": {
        "id": "NdOyMyqT-5iS",
        "colab_type": "text"
      },
      "source": [
        "#####Quarterbacks"
      ]
    },
    {
      "cell_type": "code",
      "metadata": {
        "id": "krpmmqz-_U1U",
        "colab_type": "code",
        "colab": {}
      },
      "source": [
        "#Super Bowl (SB) appearances and victories (this is typically tracked for just \n",
        "#the quarterback position)\n",
        "qb_sb_games = pd.read_csv(\"QB_Championships.csv\")\n",
        "\n",
        "#Passing data\n",
        "qb_passing = pd.read_csv(\"QB_Passing.csv\")\n",
        "\n",
        "#Combined passing, rushing, and/or receiving data\n",
        "qb_totals = pd.read_csv(\"QB_Totals.csv\")\n",
        "\n",
        "#Other data related to in-game statistics, e.g. Pro Bowl appearances\n",
        "qb_misc = pd.read_csv(\"QB_Miscellaneous.csv\")"
      ],
      "execution_count": 136,
      "outputs": []
    },
    {
      "cell_type": "markdown",
      "metadata": {
        "id": "Aqhcwmp2Aopq",
        "colab_type": "text"
      },
      "source": [
        "#Data Cleaning"
      ]
    },
    {
      "cell_type": "markdown",
      "metadata": {
        "id": "UBh3ouvp3BoV",
        "colab_type": "text"
      },
      "source": [
        "###League-Wide Data"
      ]
    },
    {
      "cell_type": "code",
      "metadata": {
        "id": "eJEhzEsNA09u",
        "colab_type": "code",
        "colab": {}
      },
      "source": [
        "hof_qbs = hof_players[hof_players['Pos'] == 'QB']\n",
        "\n",
        "mvp_players_nfl = mvp_players_nfl[mvp_players_nfl['Year'] <= 2014]\n",
        "mvp_players_nfl = mvp_players_nfl['Player'].str.partition('\\\\')[0]\n",
        "\n",
        "mvp_players_sb = mvp_players_sb[mvp_players_sb['Year'] <= 2014]\n",
        "mvp_players_sb = mvp_players_sb['Player'].str.partition('\\\\')[0]"
      ],
      "execution_count": 137,
      "outputs": []
    },
    {
      "cell_type": "markdown",
      "metadata": {
        "id": "KpRehBVj3Y1t",
        "colab_type": "text"
      },
      "source": [
        "###Individual Player Data"
      ]
    },
    {
      "cell_type": "markdown",
      "metadata": {
        "id": "j69BqhCX3Z9E",
        "colab_type": "text"
      },
      "source": [
        "#####Quarterbacks"
      ]
    },
    {
      "cell_type": "code",
      "metadata": {
        "id": "VCctX7UA3sDY",
        "colab_type": "code",
        "colab": {}
      },
      "source": [
        ""
      ],
      "execution_count": null,
      "outputs": []
    }
  ]
}