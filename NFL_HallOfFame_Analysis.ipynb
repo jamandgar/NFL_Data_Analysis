{
  "nbformat": 4,
  "nbformat_minor": 0,
  "metadata": {
    "colab": {
      "name": "NFL_HallOfFame_Analysis.ipynb",
      "provenance": [],
      "collapsed_sections": [],
      "mount_file_id": "1j0_rYdR65n51h2q4LM-k1h_uuMfdy_Zz",
      "authorship_tag": "ABX9TyN4URhKr1Gl5fu4otGLi7Up",
      "include_colab_link": true
    },
    "kernelspec": {
      "name": "python3",
      "display_name": "Python 3"
    }
  },
  "cells": [
    {
      "cell_type": "markdown",
      "metadata": {
        "id": "view-in-github",
        "colab_type": "text"
      },
      "source": [
        "<a href=\"https://colab.research.google.com/github/jamandgar/NFL_Data_Analysis/blob/master/NFL_HallOfFame_Analysis.ipynb\" target=\"_parent\"><img src=\"https://colab.research.google.com/assets/colab-badge.svg\" alt=\"Open In Colab\"/></a>"
      ]
    },
    {
      "cell_type": "markdown",
      "metadata": {
        "id": "A0DnkUx19fi6"
      },
      "source": [
        "#Imports"
      ]
    },
    {
      "cell_type": "code",
      "metadata": {
        "id": "nHpp4qoJ6HgN"
      },
      "source": [
        "import numpy as np\n",
        "import matplotlib.pyplot as plt\n",
        "import pandas as pd"
      ],
      "execution_count": 25,
      "outputs": []
    },
    {
      "cell_type": "markdown",
      "metadata": {
        "id": "bysGxGHQ6P9y"
      },
      "source": [
        "#CSV files to DataFrames\n",
        "All data was provided by and collected from Pro Football Reference:\n",
        "https://www.pro-football-reference.com/play-index/psl_finder.cgi"
      ]
    },
    {
      "cell_type": "code",
      "metadata": {
        "id": "30_AVpPO832x"
      },
      "source": [
        "path = \"drive/My Drive/NFL_Data/\"\n",
        "hof_players = pd.read_csv(path+\"All_HOF.csv\")"
      ],
      "execution_count": 26,
      "outputs": []
    },
    {
      "cell_type": "markdown",
      "metadata": {
        "id": "QPcg2r9vDhW_"
      },
      "source": [
        "Player data was collected for quarterbacks (QB) who played in and retired from the National Football League (NFL) - which prior to 1922 was known as the American Professional Football Association (APFA) - between its inaugural year of 1920 and the current year of 2020. Those who played in the All-America Football Conference (AAFC) or the American Football League (AFL) before they merged with the NFL in 1949 and 1970 respectively, are also included."
      ]
    },
    {
      "cell_type": "markdown",
      "metadata": {
        "id": "NdOyMyqT-5iS"
      },
      "source": [
        "###Quarterbacks"
      ]
    },
    {
      "cell_type": "code",
      "metadata": {
        "id": "krpmmqz-_U1U"
      },
      "source": [
        "##Win-Loss records of QBs who have played and started in a Super Bowl (SB) or in\n",
        "##an NFL/AFL Championship game prior to 1966 when the Super Bowl-era began\n",
        "qb_champ = pd.read_csv(path+\"QB_Championships.csv\")\n",
        "\n",
        "#Passing data\n",
        "qb_passing = pd.read_csv(path+\"QB_Passing.csv\")\n",
        "\n",
        "#Combined passing, rushing, and/or receiving data\n",
        "qb_totals = pd.read_csv(path+\"QB_Totals.csv\")\n",
        "\n",
        "#Other data related to in-game statistics, e.g. years played\n",
        "qb_misc = pd.read_csv(path+\"QB_Miscellaneous.csv\")"
      ],
      "execution_count": 27,
      "outputs": []
    },
    {
      "cell_type": "markdown",
      "metadata": {
        "id": "Aqhcwmp2Aopq"
      },
      "source": [
        "#Data Cleaning"
      ]
    },
    {
      "cell_type": "markdown",
      "metadata": {
        "id": "UBh3ouvp3BoV"
      },
      "source": [
        "###Quarterbacks"
      ]
    },
    {
      "cell_type": "code",
      "metadata": {
        "id": "VCctX7UA3sDY",
        "outputId": "240ce955-1b97-4b6f-de59-641a4efbcaa2",
        "colab": {
          "base_uri": "https://localhost:8080/",
          "height": 696
        }
      },
      "source": [
        "hof_qbs = hof_players[hof_players['Pos'] == 'QB']['Player']\n",
        "\n",
        "##List of Super Bowl QBs is currently organized by the team they played for,\n",
        "##which isn't necessary\n",
        "qb_champ = qb_champ.stack()\n",
        "qb_champ.reset_index(drop=True, inplace=True)\n",
        "\n",
        "##Isolate win-loss records for each championship QB into individual columns \n",
        "qb_champ = qb_champ.str.rpartition(' ')\n",
        "qb_champ.rename(columns={0: 'Name', 2: 'Ch Record'}, inplace=True)\n",
        "qb_champ.drop(columns=[1], inplace=True)\n",
        "\n",
        "qb_champ['Ch W'] = qb_champ['Ch Record'].str.partition('-')[0]\n",
        "qb_champ['Ch W'] = qb_champ['Ch W'].str.partition('(')[2]\n",
        "\n",
        "qb_champ['Ch L'] = qb_champ['Ch Record'].str.partition('-')[2]\n",
        "qb_champ['Ch L'] = qb_champ['Ch L'].str.partition(')')[0]\n",
        "\n",
        "i = 'int64'\n",
        "qb_champ = qb_champ.astype({'Ch W': i, 'Ch L': i})\n",
        "qb_champ['Ch G'] = qb_champ['Ch W'] + qb_champ['Ch L']\n",
        "qb_champ.drop(columns=['Ch Record'], inplace=True)\n",
        "\n",
        "##Some players have been in Super Bowls with multiple teams which must be \n",
        "##accounted for\n",
        "qb_champ['Name'] = qb_champ['Name'].str.strip()\n",
        "qb_champ = qb_champ.groupby('Name', as_index=False).sum()\n",
        "\n",
        "##The provided 'Player' column is used to uniquely identify individuals, however\n",
        "##there are inconsistencies with this column between some CSV files\n",
        "qb_passing.rename(columns={'Player': 'ID'}, inplace=True)\n",
        "qb_passing['ID'] = qb_passing['ID'].str.replace(\" \\*\", \"\")\n",
        "qb_passing['ID'] = qb_passing['ID'].str.replace(\"\\*\", \"\")\n",
        "\n",
        "qb_totals.rename(columns={'Player': 'ID'}, inplace=True)\n",
        "qb_totals['ID'] = qb_totals['ID'].str.replace(\" \\*\", \"\")\n",
        "qb_totals['ID'] = qb_totals['ID'].str.replace(\"\\*\", \"\")\n",
        "\n",
        "qb_misc.rename(columns={'Player': 'ID'}, inplace=True)\n",
        "qb_misc['ID'] = qb_misc['ID'].str.replace(\" \\*\", \"\")\n",
        "qb_misc['ID'] = qb_misc['ID'].str.replace(\"\\*\", \"\")\n",
        "\n",
        "##Create new columns for the name of each player, their championship game stats,\n",
        "##and their Hall of Fame status\n",
        "qb_passing['Name'] = qb_passing['ID'].str.partition('\\\\')[0]\n",
        "qb_passing['Name'] = qb_passing['Name'].str.partition('*')[0]\n",
        "qb_passing.insert(0, 'Name', qb_passing.pop('Name'))\n",
        "\n",
        "#'Name' column used to identify players as 'ID' was not provided for the CSV \n",
        "#file used for qb_champ DataFrame\n",
        "qb_passing = qb_passing.merge(qb_champ, on='Name', how='left')\n",
        "qb_passing.fillna({'Ch W': 0,'Ch L': 0,'Ch G': 0}, inplace=True)\n",
        "\n",
        "qb_misc['HOF'] = qb_misc['ID'].isin(hof_qbs)\n",
        "\n",
        "qb_passing.set_index('ID', inplace=True)\n",
        "qb_totals.set_index('ID', inplace=True)\n",
        "qb_misc.set_index('ID', inplace=True)\n",
        "\n",
        "##Combine all quarterback player data and remove redundant, unneeded, and/or\n",
        "##unusable data due to a statistic not being recorded until a specific year\n",
        "qb_passing.drop(columns=['From','Tm','Lg','Pick6','Sk','Yds.1','Sk%','ANY/A',\n",
        "                         '4QC', 'GWD'], inplace=True)\n",
        "\n",
        "qb_totals.drop(columns=['From','To','Draft','Tm','Lg','G','GS'], inplace=True)\n",
        "\n",
        "qb_misc.drop(columns=['From','To','Draft','Tm','Lg','G','GS','AV'], inplace=True)\n",
        "\n",
        "qb_data = qb_passing.join([qb_totals, qb_misc])\n",
        "qb_data.sort_index(inplace=True)\n",
        "\n",
        "##Players not eligible for HOF induction must be removed as well as those who\n",
        "##had fewer than 20 career pass attempts, as to not skew certain stats\n",
        "qb_data = qb_data[qb_data['To'] <= 2014]\n",
        "qb_data = qb_data[qb_data['Att'] >= 20]\n",
        "qb_data.drop(columns=['To'], inplace=True)\n",
        "\n",
        "##Ignore the round and league in which a player was drafted.\n",
        "qb_data['Draft'] = qb_data['Draft'].str.rpartition('-')[2]\n",
        "qb_data['Draft'] = qb_data['Draft'].str.partition(\"AFL\")[0]\n",
        "\n",
        "##An empty value for 'Draft' indicates an undrafted player\n",
        "qb_data = qb_data.astype({'Draft': 'float64'})\n",
        "qb_data['Draft'].fillna(qb_data['Draft'].max() + 1, inplace=True)\n",
        "\n",
        "qb_data = qb_data.astype({'Draft': i, 'G': i, 'GS': i, 'W': i, 'L': i, 'T': i, \n",
        "                          'Ch W': i, 'Ch L': i, 'Ch G': i, 'HOF': i})\n",
        "\n",
        "qb_data.info()"
      ],
      "execution_count": 28,
      "outputs": [
        {
          "output_type": "stream",
          "text": [
            "<class 'pandas.core.frame.DataFrame'>\n",
            "Index: 616 entries, A.J. Feeley\\FeelA.00 to Zeke Bratkowski\\BratZe00\n",
            "Data columns (total 31 columns):\n",
            " #   Column  Non-Null Count  Dtype  \n",
            "---  ------  --------------  -----  \n",
            " 0   Name    616 non-null    object \n",
            " 1   Draft   616 non-null    int64  \n",
            " 2   G       616 non-null    int64  \n",
            " 3   GS      616 non-null    int64  \n",
            " 4   Cmp     616 non-null    int64  \n",
            " 5   Att     616 non-null    int64  \n",
            " 6   Cmp%    616 non-null    float64\n",
            " 7   Yds     616 non-null    int64  \n",
            " 8   TD      616 non-null    int64  \n",
            " 9   Int     616 non-null    int64  \n",
            " 10  TD%     616 non-null    float64\n",
            " 11  Int%    616 non-null    float64\n",
            " 12  Rate    616 non-null    float64\n",
            " 13  Y/A     616 non-null    float64\n",
            " 14  AY/A    616 non-null    float64\n",
            " 15  Y/G     616 non-null    float64\n",
            " 16  W       616 non-null    int64  \n",
            " 17  L       616 non-null    int64  \n",
            " 18  T       616 non-null    int64  \n",
            " 19  Ch W    616 non-null    int64  \n",
            " 20  Ch L    616 non-null    int64  \n",
            " 21  Ch G    616 non-null    int64  \n",
            " 22  Touch   616 non-null    int64  \n",
            " 23  TotOff  616 non-null    int64  \n",
            " 24  YScm    616 non-null    int64  \n",
            " 25  APYd    616 non-null    int64  \n",
            " 26  RtY     616 non-null    int64  \n",
            " 27  Yrs     616 non-null    int64  \n",
            " 28  PB      616 non-null    int64  \n",
            " 29  AP1     616 non-null    int64  \n",
            " 30  HOF     616 non-null    int64  \n",
            "dtypes: float64(7), int64(23), object(1)\n",
            "memory usage: 154.0+ KB\n"
          ],
          "name": "stdout"
        }
      ]
    }
  ]
}